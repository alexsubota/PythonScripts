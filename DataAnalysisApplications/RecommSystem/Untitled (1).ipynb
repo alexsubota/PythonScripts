{
 "cells": [
  {
   "cell_type": "code",
   "execution_count": 2,
   "metadata": {},
   "outputs": [],
   "source": [
    "allViews = []\n",
    "allBuys = []\n",
    "with open('coursera_sessions_train.txt') as f:\n",
    "    for line in f:        \n",
    "        viewsStr, buysStr = line[:-1].split(';')\n",
    "        \n",
    "        if buysStr != '':\n",
    "            allViews.append([int(view) for view in viewsStr.split(',')])        \n",
    "            allBuys.append([] if buysStr == '' else [int(buy) for buy in buysStr.split(',')])"
   ]
  },
  {
   "cell_type": "code",
   "execution_count": 3,
   "metadata": {
    "collapsed": true
   },
   "outputs": [],
   "source": [
    "freqViews = {}\n",
    "for sessionViews in allViews:\n",
    "    for item in sessionViews:\n",
    "        freqViews[item] = freqViews.get(item, 0) + 1\n",
    "\n",
    "freqBuys = {}\n",
    "for sessionBuys in allBuys:\n",
    "    for item in sessionBuys:\n",
    "        freqBuys[item] = freqBuys.get(item, 0) + 1\n"
   ]
  },
  {
   "cell_type": "code",
   "execution_count": 4,
   "metadata": {
    "collapsed": true
   },
   "outputs": [],
   "source": [
    "def matches(views, freq, k, buys):\n",
    "    pastViewSet = set()    \n",
    "    \n",
    "    for view in sorted(views, key=lambda k: freq.get(k, 0), reverse=True):\n",
    "        if view in pastViewSet:\n",
    "            continue\n",
    "        \n",
    "        pastViewSet.add(view)\n",
    "        if len(pastViewSet) == k:\n",
    "            break\n",
    "        \n",
    "        assert len(pastViewSet) < k\n",
    "    \n",
    "    nmatches = 0\n",
    "    buysSet = set(buys)    \n",
    "    for view in pastViewSet:\n",
    "        if view in buysSet:\n",
    "            nmatches += 1\n",
    "    \n",
    "    return nmatches\n",
    "    \n",
    "def avgPrecision(views, freq, k, buys):            \n",
    "    return 1.0 * matches(views, freq, k, buys) / k\n",
    "\n",
    "def avgRecall(views, freq, k, buys):\n",
    "    return 1.0 * matches(views, freq, k, buys) / len(buys)    "
   ]
  },
  {
   "cell_type": "code",
   "execution_count": 5,
   "metadata": {
    "collapsed": true
   },
   "outputs": [],
   "source": [
    "with open('ans.txt', 'w+') as f:\n",
    "    c1 = 0\n",
    "    c2 = 0\n",
    "    c3 = 0\n",
    "    c4 = 0\n",
    "    n = 0\n",
    "    for i in range(0, len(allViews)):\n",
    "        if len(allBuys[i]) == 0:\n",
    "            continue\n",
    "            \n",
    "        c1 += avgRecall(allViews[i], freqViews, 1, allBuys[i])\n",
    "        c2 += avgPrecision(allViews[i], freqViews, 1, allBuys[i])\n",
    "        c3 += avgRecall(allViews[i], freqViews, 5, allBuys[i])\n",
    "        c4 += avgPrecision(allViews[i], freqViews, 5, allBuys[i])\n",
    "        n += 1           \n",
    "        \n",
    "    f.write(str(round(1.0 * c1 / n, 2)) + ' ' +\n",
    "            str(round(1.0 * c2 / n, 2)) + ' ' +\n",
    "            str(round(1.0 * c3 / n, 2)) + ' ' +\n",
    "            str(round(1.0 * c4 / n, 2)) + '\\n')"
   ]
  },
  {
   "cell_type": "code",
   "execution_count": null,
   "metadata": {
    "collapsed": true
   },
   "outputs": [],
   "source": []
  }
 ],
 "metadata": {
  "kernelspec": {
   "display_name": "Python 3",
   "language": "python",
   "name": "python3"
  }
 },
 "nbformat": 4,
 "nbformat_minor": 2
}
