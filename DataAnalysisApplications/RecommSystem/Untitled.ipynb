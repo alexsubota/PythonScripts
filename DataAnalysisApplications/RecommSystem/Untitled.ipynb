{
 "cells": [
  {
   "cell_type": "code",
   "execution_count": 5,
   "metadata": {},
   "outputs": [],
   "source": [
    "allViews = []\n",
    "allBuys = []\n",
    "with open('coursera_sessions_train.txt') as f:\n",
    "    for line in f:        \n",
    "        viewsStr, buysStr = line[:-1].split(';')\n",
    "        \n",
    "        \n",
    "        allViews.append([int(view) for view in viewsStr.split(',')])        \n",
    "        allBuys.append([] if buysStr == '' else [int(buy) for buy in buysStr.split(',')])"
   ]
  },
  {
   "cell_type": "code",
   "execution_count": 6,
   "metadata": {
    "collapsed": true
   },
   "outputs": [],
   "source": [
    "freqViews = {}\n",
    "for sessionViews in allViews:\n",
    "    for item in sessionViews:\n",
    "        freqViews[item] = freqViews.get(item, 0) + 1\n",
    "\n",
    "freqBuys = {}\n",
    "for sessionBuys in allBuys:\n",
    "    for item in sessionBuys:\n",
    "        freqBuys[item] = freqBuys.get(item, 0) + 1\n"
   ]
  },
  {
   "cell_type": "code",
   "execution_count": 7,
   "metadata": {
    "collapsed": true
   },
   "outputs": [],
   "source": [
    "def matches(views, freq, k, buys):\n",
    "    pastViewSet = set()    \n",
    "    \n",
    "    for view in sorted(views, key=lambda k: freq.get(k, 0), reverse=True):\n",
    "        if view in pastViewSet:\n",
    "            continue\n",
    "        \n",
    "        pastViewSet.add(view)\n",
    "        if len(pastViewSet) == k:\n",
    "            break\n",
    "        \n",
    "        assert len(pastViewSet) < k\n",
    "    \n",
    "    nmatches = 0\n",
    "    buysSet = set(buys)    \n",
    "    for view in pastViewSet:\n",
    "        if view in buysSet:\n",
    "            nmatches += 1\n",
    "    \n",
    "    return nmatches\n",
    "    \n",
    "def avgPrecision(views, freq, k, buys):            \n",
    "    return 1.0 * matches(views, freq, k, buys) / k\n",
    "\n",
    "def avgRecall(views, freq, k, buys):\n",
    "    return 1.0 * matches(views, freq, k, buys) / len(buys)    "
   ]
  },
  {
   "cell_type": "code",
   "execution_count": 8,
   "metadata": {
    "collapsed": true
   },
   "outputs": [],
   "source": [
    "with open('ans.txt', 'w+') as f:\n",
    "    for i in range(0, len(allViews)):\n",
    "        if len(allBuys[i]) == 0:\n",
    "            continue\n",
    "        \n",
    "        f.write(str(round(avgRecall(allViews[i], freqViews, 1, allBuys[i]), 2)) + ' ' +\n",
    "                str(round(avgPrecision(allViews[i], freqViews, 1, allBuys[i]), 2)) + ' ' +\n",
    "                str(round(avgRecall(allViews[i], freqViews, 5, allBuys[i]), 2)) + ' ' +\n",
    "                str(round(avgPrecision(allViews[i], freqViews, 5, allBuys[i]), 2)) + '\\n')\n"
   ]
  },
  {
   "cell_type": "code",
   "execution_count": 11,
   "metadata": {
    "collapsed": true
   },
   "outputs": [],
   "source": [
    "import pandas as pd"
   ]
  },
  {
   "cell_type": "code",
   "execution_count": 16,
   "metadata": {},
   "outputs": [],
   "source": [
    "test = pd.read_csv('ans.txt', sep = ' ', header = None, names = ['a', 'b', 'c', 'd'])"
   ]
  },
  {
   "cell_type": "code",
   "execution_count": 22,
   "metadata": {},
   "outputs": [
    {
     "data": {
      "text/plain": [
       "0.44254157427937885"
      ]
     },
     "execution_count": 22,
     "metadata": {},
     "output_type": "execute_result"
    }
   ],
   "source": [
    "test['a'].sum()/3608"
   ]
  },
  {
   "cell_type": "code",
   "execution_count": 26,
   "metadata": {},
   "outputs": [
    {
     "data": {
      "text/plain": [
       "0.5121951219512195"
      ]
     },
     "execution_count": 26,
     "metadata": {},
     "output_type": "execute_result"
    }
   ],
   "source": [
    "test['b'].sum()/3608"
   ]
  },
  {
   "cell_type": "code",
   "execution_count": 27,
   "metadata": {},
   "outputs": [
    {
     "data": {
      "text/plain": [
       "0.8246646341463411"
      ]
     },
     "execution_count": 27,
     "metadata": {},
     "output_type": "execute_result"
    }
   ],
   "source": [
    "test['c'].sum()/3608"
   ]
  },
  {
   "cell_type": "code",
   "execution_count": 28,
   "metadata": {},
   "outputs": [
    {
     "data": {
      "text/plain": [
       "0.21252771618625918"
      ]
     },
     "execution_count": 28,
     "metadata": {},
     "output_type": "execute_result"
    }
   ],
   "source": [
    "test['d'].sum()/3608"
   ]
  },
  {
   "cell_type": "code",
   "execution_count": null,
   "metadata": {
    "collapsed": true
   },
   "outputs": [],
   "source": []
  }
 ],
 "metadata": {
  "kernelspec": {
   "display_name": "Python 3",
   "language": "python",
   "name": "python3"
  },
  "language_info": {
   "codemirror_mode": {
    "name": "ipython",
    "version": 3
   },
   "file_extension": ".py",
   "mimetype": "text/x-python",
   "name": "python",
   "nbconvert_exporter": "python",
   "pygments_lexer": "ipython3",
   "version": "3.6.2"
  }
 },
 "nbformat": 4,
 "nbformat_minor": 2
}
