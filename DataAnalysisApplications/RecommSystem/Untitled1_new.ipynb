{
 "cells": [
  {
   "cell_type": "code",
   "execution_count": 88,
   "metadata": {
    "collapsed": true
   },
   "outputs": [],
   "source": [
    "import pandas as pd"
   ]
  },
  {
   "cell_type": "code",
   "execution_count": 89,
   "metadata": {},
   "outputs": [],
   "source": [
    "test = pd.read_table('coursera_sessions_test.txt', sep = ';', names = ['look', 'buy'])"
   ]
  },
  {
   "cell_type": "code",
   "execution_count": 90,
   "metadata": {},
   "outputs": [],
   "source": [
    "splitLook = test['look'].str.split(',').tolist()"
   ]
  },
  {
   "cell_type": "code",
   "execution_count": 91,
   "metadata": {},
   "outputs": [],
   "source": [
    "lookDict = {}\n",
    "for row in splitLook:\n",
    "    for item in row:\n",
    "        currNum = lookDict.get(item)\n",
    "        if currNum:\n",
    "            lookDict.update({item : currNum + 1})\n",
    "        else:\n",
    "            lookDict.update({item : 1})"
   ]
  },
  {
   "cell_type": "code",
   "execution_count": 92,
   "metadata": {},
   "outputs": [],
   "source": [
    "lookDF = pd.DataFrame.from_dict(lookDict, orient='index')\n",
    "lookDF.columns = ['look']"
   ]
  },
  {
   "cell_type": "code",
   "execution_count": 93,
   "metadata": {},
   "outputs": [],
   "source": [
    "sortedLookDF = lookDF.sort_values(['look'], axis = 0, ascending = False, kind = 'merge_sort')"
   ]
  },
  {
   "cell_type": "code",
   "execution_count": 94,
   "metadata": {},
   "outputs": [],
   "source": [
    "test = test.dropna()\n",
    "splitLook = test['look'].str.split(',').tolist()"
   ]
  },
  {
   "cell_type": "code",
   "execution_count": 95,
   "metadata": {},
   "outputs": [
    {
     "data": {
      "text/html": [
       "<div>\n",
       "<style>\n",
       "    .dataframe thead tr:only-child th {\n",
       "        text-align: right;\n",
       "    }\n",
       "\n",
       "    .dataframe thead th {\n",
       "        text-align: left;\n",
       "    }\n",
       "\n",
       "    .dataframe tbody tr th {\n",
       "        vertical-align: top;\n",
       "    }\n",
       "</style>\n",
       "<table border=\"1\" class=\"dataframe\">\n",
       "  <thead>\n",
       "    <tr style=\"text-align: right;\">\n",
       "      <th></th>\n",
       "      <th>look</th>\n",
       "      <th>buy</th>\n",
       "    </tr>\n",
       "  </thead>\n",
       "  <tbody>\n",
       "    <tr>\n",
       "      <th>7</th>\n",
       "      <td>63,68,69,70,66,61,59,61,66,68</td>\n",
       "      <td>66,63</td>\n",
       "    </tr>\n",
       "    <tr>\n",
       "      <th>14</th>\n",
       "      <td>158,159,160,159,161,162</td>\n",
       "      <td>162</td>\n",
       "    </tr>\n",
       "  </tbody>\n",
       "</table>\n",
       "</div>"
      ],
      "text/plain": [
       "                             look    buy\n",
       "7   63,68,69,70,66,61,59,61,66,68  66,63\n",
       "14        158,159,160,159,161,162    162"
      ]
     },
     "execution_count": 95,
     "metadata": {},
     "output_type": "execute_result"
    }
   ],
   "source": [
    "test.head(2)"
   ]
  },
  {
   "cell_type": "code",
   "execution_count": 112,
   "metadata": {},
   "outputs": [],
   "source": [
    "def averagePrecision(k, splitLook, sortedDF):\n",
    "    ids = sortedDF.index[0:k]\n",
    "    precList = []\n",
    "    for i in range(0, len(splitLook), 1):\n",
    "        prec = 0\n",
    "        for val in ids:\n",
    "            prec += splitLook[i].count(val)\n",
    "        precList.append(prec/5)\n",
    "    return sum(precList)/len(precList)\n",
    "    #return precList\n",
    "\n",
    "def averageRecall(k, splitLook, sortedDF):\n",
    "    ids = sortedDF.index[0:k]\n",
    "    precList = []\n",
    "    for i in range(0, len(splitLook), 1):\n",
    "        prec = 0\n",
    "        for val in ids:\n",
    "            prec += splitLook[i].count(val)\n",
    "        precList.append(prec/len(splitLook[i]))\n",
    "    return sum(precList)/len(precList)"
   ]
  },
  {
   "cell_type": "code",
   "execution_count": 116,
   "metadata": {},
   "outputs": [
    {
     "name": "stdout",
     "output_type": "stream",
     "text": [
      "0.002286966037459103\n",
      "0.0030559345156889483\n",
      "0.005249239820732248\n",
      "0.008294679399727141\n"
     ]
    }
   ],
   "source": [
    "print (averageRecall(1, splitLook, sortedLookDF))\n",
    "print (averagePrecision(1, splitLook, sortedLookDF))\n",
    "print (averageRecall(5, splitLook, sortedLookDF))\n",
    "print (averagePrecision(5, splitLook, sortedLookDF))"
   ]
  },
  {
   "cell_type": "code",
   "execution_count": 106,
   "metadata": {},
   "outputs": [],
   "source": [
    "ids = sortedLookDF.index[0:5]\n",
    "precList = []\n",
    "for i in range(0, len(splitLook), 1):\n",
    "    prec = 0\n",
    "    for val in ids:\n",
    "        prec += splitLook[i].count(val)\n",
    "    precList.append(prec/5)"
   ]
  },
  {
   "cell_type": "code",
   "execution_count": 103,
   "metadata": {},
   "outputs": [
    {
     "data": {
      "text/plain": [
       "1"
      ]
     },
     "execution_count": 103,
     "metadata": {},
     "output_type": "execute_result"
    }
   ],
   "source": [
    "splitLook[0].count('63')"
   ]
  },
  {
   "cell_type": "code",
   "execution_count": 57,
   "metadata": {},
   "outputs": [
    {
     "data": {
      "text/plain": [
       "2"
      ]
     },
     "execution_count": 57,
     "metadata": {},
     "output_type": "execute_result"
    }
   ],
   "source": [
    "a"
   ]
  },
  {
   "cell_type": "code",
   "execution_count": null,
   "metadata": {
    "collapsed": true
   },
   "outputs": [],
   "source": []
  }
 ],
 "metadata": {
  "kernelspec": {
   "display_name": "Python 3",
   "language": "python",
   "name": "python3"
  },
  "language_info": {
   "codemirror_mode": {
    "name": "ipython",
    "version": 3
   },
   "file_extension": ".py",
   "mimetype": "text/x-python",
   "name": "python",
   "nbconvert_exporter": "python",
   "pygments_lexer": "ipython3",
   "version": "3.6.2"
  }
 },
 "nbformat": 4,
 "nbformat_minor": 2
}
