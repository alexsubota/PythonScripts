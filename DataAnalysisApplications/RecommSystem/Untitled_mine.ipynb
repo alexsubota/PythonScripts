{
 "cells": [
  {
   "cell_type": "code",
   "execution_count": 202,
   "metadata": {
    "collapsed": true
   },
   "outputs": [],
   "source": [
    "import pandas as pd\n",
    "import math\n",
    "import collections\n",
    "import operator"
   ]
  },
  {
   "cell_type": "code",
   "execution_count": 203,
   "metadata": {
    "collapsed": true
   },
   "outputs": [],
   "source": [
    "test = pd.read_table('coursera_sessions_test.txt', header = None, sep = ';', names = ['look', 'buy'])\n",
    "train = pd.read_table('coursera_sessions_train.txt', header = None, sep = ';', names = ['look', 'buy'])"
   ]
  },
  {
   "cell_type": "code",
   "execution_count": 204,
   "metadata": {
    "collapsed": true
   },
   "outputs": [],
   "source": [
    "#test = test.dropna()"
   ]
  },
  {
   "cell_type": "code",
   "execution_count": 205,
   "metadata": {
    "collapsed": true
   },
   "outputs": [],
   "source": [
    "splitLook = test['look'].str.split(',').tolist()"
   ]
  },
  {
   "cell_type": "code",
   "execution_count": 206,
   "metadata": {
    "collapsed": true
   },
   "outputs": [],
   "source": [
    "lookDict = []\n",
    "for row in splitLook:\n",
    "    tempDict = {}\n",
    "    for item in row:\n",
    "        currNum = tempDict.get(item)\n",
    "        if currNum:\n",
    "            tempDict.update({item : currNum + 1})\n",
    "        else:\n",
    "            tempDict.update({item : 1})\n",
    "    lookDict.append(tempDict)"
   ]
  },
  {
   "cell_type": "code",
   "execution_count": 207,
   "metadata": {
    "collapsed": true
   },
   "outputs": [],
   "source": [
    "lookDictSorted = []\n",
    "for i, d in enumerate(lookDict):\n",
    "    lookDictSorted.append(collections.OrderedDict(list(d.items())))\n",
    "    lookDictSorted[i] = sorted(lookDictSorted[i].items(), key=operator.itemgetter(1), reverse = True)\n",
    "    \n",
    "buyDictSorted = []\n",
    "for i, d in enumerate(buyDict):\n",
    "    buyDictSorted.append(collections.OrderedDict(list(d.items())))\n",
    "    buyDictSorted[i] = sorted(buyDictSorted[i].items(), key=operator.itemgetter(1), reverse = True)"
   ]
  },
  {
   "cell_type": "code",
   "execution_count": null,
   "metadata": {},
   "outputs": [],
   "source": []
  },
  {
   "cell_type": "code",
   "execution_count": 208,
   "metadata": {
    "collapsed": true
   },
   "outputs": [],
   "source": [
    "splitBuy = test['buy'].str.split(',').tolist()\n",
    "#for i, item in enumerate(splitBuy):\n",
    "#    if type(item) == float:\n",
    "#        splitBuy[i] = ['0']"
   ]
  },
  {
   "cell_type": "code",
   "execution_count": 209,
   "metadata": {
    "collapsed": true
   },
   "outputs": [],
   "source": [
    "def getPopularList(val, lookDict):\n",
    "    valList = []\n",
    "    for item in lookDict:\n",
    "        tempValList = []\n",
    "        if val>len(item):\n",
    "            val = len(item)\n",
    "        for j in range(0, val, 1):\n",
    "            tempValList.append(item[j][0])\n",
    "        valList.append(tempValList)   \n",
    "    return valList\n",
    "\n",
    "def Precision(val, lookDict, buyList):\n",
    "    precList = []\n",
    "    l = len(buyList)\n",
    "    \n",
    "    tempSortKeys = []\n",
    "    valList = getPopularList(val, lookDict)\n",
    "    \n",
    "    for i in range(0, len(valList), 1):\n",
    "        tempPrec = 0\n",
    "        for val1 in valList[i]:\n",
    "            if val1 in buyList[i]:\n",
    "                tempPrec = tempPrec + 1\n",
    "        tempPrec = tempPrec/val\n",
    "        precList.append(tempPrec)\n",
    "    \n",
    "    return precList\n",
    "\n",
    "def Recall(val, lookDict, buyList):\n",
    "    recList = []\n",
    "    l = len(buyList)\n",
    "    valList = getPopularList(val, lookDict)\n",
    "    \n",
    "    for i in range(0, len(valList), 1):\n",
    "        tempRec = 0\n",
    "        for val1 in valList[i]:\n",
    "            if val1 in buyList[i]:\n",
    "                tempRec = tempRec + 1\n",
    "        tempRec = tempRec/len(buyList[i])\n",
    "        recList.append(tempRec)\n",
    "        \n",
    "    return recList"
   ]
  },
  {
   "cell_type": "code",
   "execution_count": 210,
   "metadata": {},
   "outputs": [],
   "source": [
    "Precision5 = Precision(5, lookDictSorted, splitBuy)\n",
    "Precision1 = Precision(1, lookDictSorted, splitBuy)\n",
    "Recall5 = Recall(5, lookDictSorted, splitBuy)\n",
    "Recall1 = Recall(1, lookDictSorted, splitBuy)"
   ]
  },
  {
   "cell_type": "code",
   "execution_count": 211,
   "metadata": {},
   "outputs": [
    {
     "name": "stdout",
     "output_type": "stream",
     "text": [
      "0.13069577080490624\n",
      "0.652387448840382\n",
      "0.5598862832991306\n",
      "0.5592041550590214\n"
     ]
    }
   ],
   "source": [
    "print (sum(Precision5)/len(Precision5))\n",
    "print (sum(Precision1)/len(Precision1))\n",
    "print (sum(Recall5)/len(Recall5))\n",
    "print (sum(Recall1)/len(Recall1))"
   ]
  },
  {
   "cell_type": "code",
   "execution_count": null,
   "metadata": {
    "collapsed": true
   },
   "outputs": [],
   "source": []
  }
 ],
 "metadata": {
  "kernelspec": {
   "display_name": "Python 3",
   "language": "python",
   "name": "python3"
  },
  "language_info": {
   "codemirror_mode": {
    "name": "ipython",
    "version": 3
   },
   "file_extension": ".py",
   "mimetype": "text/x-python",
   "name": "python",
   "nbconvert_exporter": "python",
   "pygments_lexer": "ipython3",
   "version": "3.6.2"
  }
 },
 "nbformat": 4,
 "nbformat_minor": 2
}
